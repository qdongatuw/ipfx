{
 "cells": [
  {
   "cell_type": "code",
   "execution_count": 27,
   "metadata": {},
   "outputs": [],
   "source": [
    "import numpy as np\n",
    "import matplotlib.pyplot as plt\n",
    "import pyabf\n",
    "import os\n",
    "import pandas as pd\n"
   ]
  },
  {
   "cell_type": "code",
   "execution_count": 46,
   "metadata": {},
   "outputs": [],
   "source": [
    "file = r\"C:\\Users\\dongq\\OneDrive\\mouse patch-seq\\Mecp2 project\\3 weeks\\2023_05_05_0001.abf\""
   ]
  },
  {
   "cell_type": "code",
   "execution_count": 36,
   "metadata": {},
   "outputs": [],
   "source": [
    "df = pd.DataFrame({'File': ['2023_04_10_0003.abf', '2023_04_10_0004.abf', '2023_04_10_0005.abf']})"
   ]
  },
  {
   "cell_type": "code",
   "execution_count": 40,
   "metadata": {},
   "outputs": [
    {
     "data": {
      "text/html": [
       "<div>\n",
       "<style scoped>\n",
       "    .dataframe tbody tr th:only-of-type {\n",
       "        vertical-align: middle;\n",
       "    }\n",
       "\n",
       "    .dataframe tbody tr th {\n",
       "        vertical-align: top;\n",
       "    }\n",
       "\n",
       "    .dataframe thead th {\n",
       "        text-align: right;\n",
       "    }\n",
       "</style>\n",
       "<table border=\"1\" class=\"dataframe\">\n",
       "  <thead>\n",
       "    <tr style=\"text-align: right;\">\n",
       "      <th></th>\n",
       "      <th>File</th>\n",
       "    </tr>\n",
       "  </thead>\n",
       "  <tbody>\n",
       "    <tr>\n",
       "      <th>0</th>\n",
       "      <td>2023_04_10_0003.abf</td>\n",
       "    </tr>\n",
       "    <tr>\n",
       "      <th>1</th>\n",
       "      <td>2023_04_10_0004.abf</td>\n",
       "    </tr>\n",
       "    <tr>\n",
       "      <th>2</th>\n",
       "      <td>2023_04_10_0005.abf</td>\n",
       "    </tr>\n",
       "  </tbody>\n",
       "</table>\n",
       "</div>"
      ],
      "text/plain": [
       "                  File\n",
       "0  2023_04_10_0003.abf\n",
       "1  2023_04_10_0004.abf\n",
       "2  2023_04_10_0005.abf"
      ]
     },
     "execution_count": 40,
     "metadata": {},
     "output_type": "execute_result"
    }
   ],
   "source": [
    "df"
   ]
  },
  {
   "cell_type": "code",
   "execution_count": 47,
   "metadata": {},
   "outputs": [],
   "source": [
    "f = pyabf.ABF(file)\n"
   ]
  },
  {
   "cell_type": "code",
   "execution_count": null,
   "metadata": {},
   "outputs": [],
   "source": []
  },
  {
   "cell_type": "code",
   "execution_count": 4,
   "metadata": {},
   "outputs": [],
   "source": [
    "from feature_extractor import SpikeFeatureExtractor, SpikeTrainFeatureExtractor\n",
    "sfe = SpikeFeatureExtractor(filter=2)\n",
    "spte = SpikeTrainFeatureExtractor(start=0, end=16000)\n"
   ]
  },
  {
   "cell_type": "code",
   "execution_count": 48,
   "metadata": {},
   "outputs": [
    {
     "name": "stdout",
     "output_type": "stream",
     "text": [
      "[0.0, 0.0, -100.0, 0.0] ['Step', 'Step', 'Step', 'Step']\n",
      "[0.0, 0.0, -80.0, 0.0] ['Step', 'Step', 'Step', 'Step']\n",
      "[0.0, 0.0, -60.0, 0.0] ['Step', 'Step', 'Step', 'Step']\n",
      "[0.0, 0.0, -40.0, 0.0] ['Step', 'Step', 'Step', 'Step']\n",
      "[0.0, 0.0, -20.0, 0.0] ['Step', 'Step', 'Step', 'Step']\n",
      "[0.0, 0.0, 0.0, 0.0] ['Step', 'Step', 'Step', 'Step']\n",
      "[0.0, 0.0, 20.0, 0.0] ['Step', 'Step', 'Step', 'Step']\n",
      "[0.0, 0.0, 40.0, 0.0] ['Step', 'Step', 'Step', 'Step']\n",
      "[0.0, 0.0, 60.0, 0.0] ['Step', 'Step', 'Step', 'Step']\n",
      "[0.0, 0.0, 80.0, 0.0] ['Step', 'Step', 'Step', 'Step']\n",
      "[0.0, 0.0, 100.0, 0.0] ['Step', 'Step', 'Step', 'Step']\n",
      "[0.0, 0.0, 120.0, 0.0] ['Step', 'Step', 'Step', 'Step']\n",
      "[0.0, 0.0, 140.0, 0.0] ['Step', 'Step', 'Step', 'Step']\n",
      "[0.0, 0.0, 160.0, 0.0] ['Step', 'Step', 'Step', 'Step']\n",
      "[0.0, 0.0, 180.0, 0.0] ['Step', 'Step', 'Step', 'Step']\n"
     ]
    }
   ],
   "source": [
    "for index in f.sweepList:\n",
    "    f.setSweep(index)\n",
    "    print(f.sweepEpochs.levels, f.sweepEpochs.types)"
   ]
  },
  {
   "cell_type": "code",
   "execution_count": 41,
   "metadata": {},
   "outputs": [
    {
     "name": "stderr",
     "output_type": "stream",
     "text": [
      "C:\\Users\\dongq\\AppData\\Local\\Temp\\ipykernel_28212\\102314537.py:21: FutureWarning: The default value of numeric_only in DataFrame.mean is deprecated. In a future version, it will default to False. In addition, specifying 'numeric_only=None' is deprecated. Select only valid columns or specify the value of numeric_only to silence this warning.\n",
      "  new_df = i_result[0].mean().to_frame().T\n"
     ]
    }
   ],
   "source": [
    "\n",
    "\n",
    "sampling_rate = f.sampleRate\n",
    "temp_result_list = []\n",
    "flag_spike = False\n",
    "for index in f.sweepList:\n",
    "    f.setSweep(index)\n",
    "    t = f.sweepX\n",
    "    v = f.sweepY\n",
    "    i = f.sweepC\n",
    "\n",
    "    if f.sweepUnitsY == f.sweepUnitsC:\n",
    "        v = v/20\n",
    "    ft = sfe.process(t, v, i)\n",
    "    # ft.to_csv(f'{index}.csv', index=False)\n",
    "    sptft= spte.process(t=t, v=v, i=i, spikes_df=ft)\n",
    "    current = f.sweepEpochs.levels[1]\n",
    "    sptft['current'] = current\n",
    "    temp_result_list.append((ft, sptft))\n",
    "\n",
    "for i_result in temp_result_list:\n",
    "    if i_result[1]['avg_rate'] > 0:\n",
    "        new_df = i_result[0].mean().to_frame().T\n",
    "        new_df.insert(0, 'File', os.path.basename(file))\n",
    "        break\n",
    "for i_result in temp_result_list:\n",
    "    if 'adapt' in i_result[1] and i_result[1]['adapt'] > 0:\n",
    "        temp_dict = {i: [i_result[1][i]] for i in i_result[1]} \n",
    "        fire_pattern_df = pd.DataFrame(temp_dict)\n",
    "        fire_pattern_df.insert(0, 'File', os.path.basename(file))\n",
    "        break\n",
    "firing_rate_list = dict()\n",
    "firing_rate_list['File'] = [os.path.basename(file)]\n",
    "for i_result in temp_result_list:\n",
    "    current = i_result[1]['current']\n",
    "    rate = i_result[1]['avg_rate'] * sampling_rate\n",
    "    firing_rate_list[f'{current} pA'] = [rate]\n",
    "rate_df = pd.DataFrame(firing_rate_list)\n",
    "ccc = pd.concat([df, pd.merge(new_df, pd.merge(fire_pattern_df, rate_df, on='File'), on='File')])\n",
    "ccc.to_csv('test.csv', index=False)\n",
    "    \n"
   ]
  },
  {
   "cell_type": "code",
   "execution_count": 42,
   "metadata": {},
   "outputs": [
    {
     "data": {
      "text/html": [
       "<div>\n",
       "<style scoped>\n",
       "    .dataframe tbody tr th:only-of-type {\n",
       "        vertical-align: middle;\n",
       "    }\n",
       "\n",
       "    .dataframe tbody tr th {\n",
       "        vertical-align: top;\n",
       "    }\n",
       "\n",
       "    .dataframe thead th {\n",
       "        text-align: right;\n",
       "    }\n",
       "</style>\n",
       "<table border=\"1\" class=\"dataframe\">\n",
       "  <thead>\n",
       "    <tr style=\"text-align: right;\">\n",
       "      <th></th>\n",
       "      <th>File</th>\n",
       "      <th>threshold_index</th>\n",
       "      <th>clipped</th>\n",
       "      <th>threshold_t</th>\n",
       "      <th>threshold_v</th>\n",
       "      <th>threshold_i</th>\n",
       "      <th>peak_index</th>\n",
       "      <th>peak_t</th>\n",
       "      <th>peak_v</th>\n",
       "      <th>peak_i</th>\n",
       "      <th>...</th>\n",
       "      <th>15.0 pA</th>\n",
       "      <th>20.0 pA</th>\n",
       "      <th>25.0 pA</th>\n",
       "      <th>30.0 pA</th>\n",
       "      <th>35.0 pA</th>\n",
       "      <th>40.0 pA</th>\n",
       "      <th>45.0 pA</th>\n",
       "      <th>50.0 pA</th>\n",
       "      <th>55.0 pA</th>\n",
       "      <th>60.0 pA</th>\n",
       "    </tr>\n",
       "  </thead>\n",
       "  <tbody>\n",
       "    <tr>\n",
       "      <th>0</th>\n",
       "      <td>2023_04_10_0003.abf</td>\n",
       "      <td>NaN</td>\n",
       "      <td>NaN</td>\n",
       "      <td>NaN</td>\n",
       "      <td>NaN</td>\n",
       "      <td>NaN</td>\n",
       "      <td>NaN</td>\n",
       "      <td>NaN</td>\n",
       "      <td>NaN</td>\n",
       "      <td>NaN</td>\n",
       "      <td>...</td>\n",
       "      <td>NaN</td>\n",
       "      <td>NaN</td>\n",
       "      <td>NaN</td>\n",
       "      <td>NaN</td>\n",
       "      <td>NaN</td>\n",
       "      <td>NaN</td>\n",
       "      <td>NaN</td>\n",
       "      <td>NaN</td>\n",
       "      <td>NaN</td>\n",
       "      <td>NaN</td>\n",
       "    </tr>\n",
       "    <tr>\n",
       "      <th>1</th>\n",
       "      <td>2023_04_10_0004.abf</td>\n",
       "      <td>NaN</td>\n",
       "      <td>NaN</td>\n",
       "      <td>NaN</td>\n",
       "      <td>NaN</td>\n",
       "      <td>NaN</td>\n",
       "      <td>NaN</td>\n",
       "      <td>NaN</td>\n",
       "      <td>NaN</td>\n",
       "      <td>NaN</td>\n",
       "      <td>...</td>\n",
       "      <td>NaN</td>\n",
       "      <td>NaN</td>\n",
       "      <td>NaN</td>\n",
       "      <td>NaN</td>\n",
       "      <td>NaN</td>\n",
       "      <td>NaN</td>\n",
       "      <td>NaN</td>\n",
       "      <td>NaN</td>\n",
       "      <td>NaN</td>\n",
       "      <td>NaN</td>\n",
       "    </tr>\n",
       "    <tr>\n",
       "      <th>2</th>\n",
       "      <td>2023_04_10_0005.abf</td>\n",
       "      <td>NaN</td>\n",
       "      <td>NaN</td>\n",
       "      <td>NaN</td>\n",
       "      <td>NaN</td>\n",
       "      <td>NaN</td>\n",
       "      <td>NaN</td>\n",
       "      <td>NaN</td>\n",
       "      <td>NaN</td>\n",
       "      <td>NaN</td>\n",
       "      <td>...</td>\n",
       "      <td>NaN</td>\n",
       "      <td>NaN</td>\n",
       "      <td>NaN</td>\n",
       "      <td>NaN</td>\n",
       "      <td>NaN</td>\n",
       "      <td>NaN</td>\n",
       "      <td>NaN</td>\n",
       "      <td>NaN</td>\n",
       "      <td>NaN</td>\n",
       "      <td>NaN</td>\n",
       "    </tr>\n",
       "    <tr>\n",
       "      <th>0</th>\n",
       "      <td>2023_04_10_0003.abf</td>\n",
       "      <td>6478.0</td>\n",
       "      <td>0.0</td>\n",
       "      <td>0.6478</td>\n",
       "      <td>-46.508789</td>\n",
       "      <td>5.0</td>\n",
       "      <td>6515.0</td>\n",
       "      <td>0.6515</td>\n",
       "      <td>2.258301</td>\n",
       "      <td>5.0</td>\n",
       "      <td>...</td>\n",
       "      <td>2.5</td>\n",
       "      <td>3.125</td>\n",
       "      <td>3.75</td>\n",
       "      <td>3.75</td>\n",
       "      <td>3.75</td>\n",
       "      <td>4.375</td>\n",
       "      <td>1.875</td>\n",
       "      <td>1.25</td>\n",
       "      <td>1.25</td>\n",
       "      <td>0.625</td>\n",
       "    </tr>\n",
       "  </tbody>\n",
       "</table>\n",
       "<p>4 rows × 59 columns</p>\n",
       "</div>"
      ],
      "text/plain": [
       "                  File  threshold_index  clipped  threshold_t  threshold_v  \\\n",
       "0  2023_04_10_0003.abf              NaN      NaN          NaN          NaN   \n",
       "1  2023_04_10_0004.abf              NaN      NaN          NaN          NaN   \n",
       "2  2023_04_10_0005.abf              NaN      NaN          NaN          NaN   \n",
       "0  2023_04_10_0003.abf           6478.0      0.0       0.6478   -46.508789   \n",
       "\n",
       "   threshold_i  peak_index  peak_t    peak_v  peak_i  ...  15.0 pA  20.0 pA  \\\n",
       "0          NaN         NaN     NaN       NaN     NaN  ...      NaN      NaN   \n",
       "1          NaN         NaN     NaN       NaN     NaN  ...      NaN      NaN   \n",
       "2          NaN         NaN     NaN       NaN     NaN  ...      NaN      NaN   \n",
       "0          5.0      6515.0  0.6515  2.258301     5.0  ...      2.5    3.125   \n",
       "\n",
       "   25.0 pA  30.0 pA  35.0 pA  40.0 pA  45.0 pA  50.0 pA  55.0 pA  60.0 pA  \n",
       "0      NaN      NaN      NaN      NaN      NaN      NaN      NaN      NaN  \n",
       "1      NaN      NaN      NaN      NaN      NaN      NaN      NaN      NaN  \n",
       "2      NaN      NaN      NaN      NaN      NaN      NaN      NaN      NaN  \n",
       "0     3.75     3.75     3.75    4.375    1.875     1.25     1.25    0.625  \n",
       "\n",
       "[4 rows x 59 columns]"
      ]
     },
     "execution_count": 42,
     "metadata": {},
     "output_type": "execute_result"
    }
   ],
   "source": [
    "ccc"
   ]
  }
 ],
 "metadata": {
  "kernelspec": {
   "display_name": "Python 3",
   "language": "python",
   "name": "python3"
  },
  "language_info": {
   "codemirror_mode": {
    "name": "ipython",
    "version": 3
   },
   "file_extension": ".py",
   "mimetype": "text/x-python",
   "name": "python",
   "nbconvert_exporter": "python",
   "pygments_lexer": "ipython3",
   "version": "3.11.3"
  },
  "orig_nbformat": 4,
  "vscode": {
   "interpreter": {
    "hash": "d57d9b84625b7773c1f97ef890d3f21edb77ca5b5bdaa51d489128d5279dbe75"
   }
  }
 },
 "nbformat": 4,
 "nbformat_minor": 2
}
