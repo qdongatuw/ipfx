{
 "cells": [
  {
   "cell_type": "code",
   "execution_count": 1,
   "metadata": {},
   "outputs": [],
   "source": [
    "import numpy as np\n",
    "import matplotlib.pyplot as plt\n",
    "import pyabf\n",
    "import os\n",
    "import pandas as pd\n"
   ]
  },
  {
   "cell_type": "code",
   "execution_count": 2,
   "metadata": {},
   "outputs": [],
   "source": [
    "file = r\"C:\\Users\\dongq\\OneDrive\\mouse patch-seq\\Mecp2 project\\3 weeks\\2023_05_05_0001.abf\""
   ]
  },
  {
   "cell_type": "code",
   "execution_count": 3,
   "metadata": {},
   "outputs": [],
   "source": [
    "f = pyabf.ABF(file)\n"
   ]
  },
  {
   "cell_type": "code",
   "execution_count": 26,
   "metadata": {},
   "outputs": [
    {
     "data": {
      "text/plain": [
       "20000"
      ]
     },
     "execution_count": 26,
     "metadata": {},
     "output_type": "execute_result"
    }
   ],
   "source": [
    "f.sweepPointCount"
   ]
  },
  {
   "cell_type": "code",
   "execution_count": 36,
   "metadata": {},
   "outputs": [],
   "source": [
    "\n"
   ]
  },
  {
   "cell_type": "code",
   "execution_count": 37,
   "metadata": {},
   "outputs": [
    {
     "name": "stdout",
     "output_type": "stream",
     "text": [
      "[0.0, 0.0, -100.0, 0.0] ['Step', 'Step', 'Step', 'Step']\n",
      "[0.0, 0.0, -80.0, 0.0] ['Step', 'Step', 'Step', 'Step']\n",
      "[0.0, 0.0, -60.0, 0.0] ['Step', 'Step', 'Step', 'Step']\n",
      "[0.0, 0.0, -40.0, 0.0] ['Step', 'Step', 'Step', 'Step']\n",
      "[0.0, 0.0, -20.0, 0.0] ['Step', 'Step', 'Step', 'Step']\n",
      "[0.0, 0.0, 0.0, 0.0] ['Step', 'Step', 'Step', 'Step']\n",
      "[0.0, 0.0, 20.0, 0.0] ['Step', 'Step', 'Step', 'Step']\n",
      "[0.0, 0.0, 40.0, 0.0] ['Step', 'Step', 'Step', 'Step']\n",
      "[0.0, 0.0, 60.0, 0.0] ['Step', 'Step', 'Step', 'Step']\n",
      "[0.0, 0.0, 80.0, 0.0] ['Step', 'Step', 'Step', 'Step']\n",
      "[0.0, 0.0, 100.0, 0.0] ['Step', 'Step', 'Step', 'Step']\n",
      "[0.0, 0.0, 120.0, 0.0] ['Step', 'Step', 'Step', 'Step']\n",
      "[0.0, 0.0, 140.0, 0.0] ['Step', 'Step', 'Step', 'Step']\n",
      "[0.0, 0.0, 160.0, 0.0] ['Step', 'Step', 'Step', 'Step']\n",
      "[0.0, 0.0, 180.0, 0.0] ['Step', 'Step', 'Step', 'Step']\n"
     ]
    }
   ],
   "source": [
    "for index in f.sweepList:\n",
    "    f.setSweep(index)\n",
    "    print(f.sweepEpochs.levels, f.sweepEpochs.types)"
   ]
  },
  {
   "cell_type": "code",
   "execution_count": 38,
   "metadata": {},
   "outputs": [
    {
     "data": {
      "text/plain": [
       "[312, 1312, 11312, 20000]"
      ]
     },
     "execution_count": 38,
     "metadata": {},
     "output_type": "execute_result"
    }
   ],
   "source": [
    "f.sweepEpochs.p1s\n",
    "f.sweepEpochs.p2s"
   ]
  },
  {
   "cell_type": "code",
   "execution_count": 39,
   "metadata": {},
   "outputs": [],
   "source": [
    "f.setSweep(0)\n",
    "first_epoc = f.sweepEpochs\n",
    "f.setSweep(1)\n",
    "second_epoc = f.sweepEpochs\n",
    "dif = np.asarray(second_epoc.levels) - np.asarray(first_epoc.levels)\n",
    "\n"
   ]
  },
  {
   "cell_type": "code",
   "execution_count": 40,
   "metadata": {},
   "outputs": [
    {
     "data": {
      "text/plain": [
       "(1312, 11312)"
      ]
     },
     "execution_count": 40,
     "metadata": {},
     "output_type": "execute_result"
    }
   ],
   "source": [
    "step = np.where(dif != 0)\n",
    "start = np.asarray(first_epoc.p1s)[step][0]\n",
    "end = np.asarray(first_epoc.p2s)[step][0]\n",
    "(start, end)"
   ]
  },
  {
   "cell_type": "code",
   "execution_count": 46,
   "metadata": {},
   "outputs": [],
   "source": [
    "sampling_rate = f.sampleRate"
   ]
  },
  {
   "cell_type": "code",
   "execution_count": 47,
   "metadata": {},
   "outputs": [],
   "source": [
    "from feature_extractor import SpikeFeatureExtractor, SpikeTrainFeatureExtractor\n",
    "sfe = SpikeFeatureExtractor(filter=2)\n",
    "spte = SpikeTrainFeatureExtractor(start=start/sampling_rate, end=end/sampling_rate)"
   ]
  },
  {
   "cell_type": "code",
   "execution_count": 41,
   "metadata": {},
   "outputs": [],
   "source": [
    "import subthresh_features as sbth"
   ]
  },
  {
   "cell_type": "code",
   "execution_count": 50,
   "metadata": {},
   "outputs": [],
   "source": [
    "\n",
    "rmp = []\n",
    "tau = []\n",
    "sag = []\n",
    "\n",
    "t_set = []\n",
    "i_set = []\n",
    "v_set = []\n",
    "\n",
    "temp_result_list = []\n",
    "flag_spike = False\n",
    "for index in f.sweepList:\n",
    "    f.setSweep(index)\n",
    "    t = f.sweepX\n",
    "    v = f.sweepY\n",
    "    i = f.sweepC\n",
    "\n",
    "    if f.sweepUnitsY == f.sweepUnitsC:\n",
    "        v = v/20\n",
    "    current = np.asarray(f.sweepEpochs.levels)[step][0]\n",
    "\n",
    "    rmp.append(np.median(v[np.where(i == 0)]))\n",
    "    if current < 0:\n",
    "        tau.append(sbth.time_constant(t=t, v=v, i=i, start=start/sampling_rate, end=(end-2)/sampling_rate))\n",
    "        sag.append(sbth.sag(t=t, v=v, i=i, start=start/sampling_rate, end=end/sampling_rate))\n",
    "        t_set.append(t)\n",
    "        i_set.append(i)\n",
    "        v_set.append(v)\n",
    "    \n",
    "    if current == 0:\n",
    "        t_set.append(t)\n",
    "        i_set.append(i)\n",
    "        v_set.append(v)\n",
    "\n",
    "    ft = sfe.process(t, v, i)\n",
    "    # ft.to_csv(f'{index}.csv', index=False)\n",
    "    sptft= spte.process(t=t, v=v, i=i, spikes_df=ft)\n",
    "    \n",
    "    sptft['current'] = current\n",
    "    temp_result_list.append((ft, sptft))\n",
    "\n",
    "rin = sbth.input_resistance(t_set=t_set, i_set=i_set, v_set=v_set, start=start/sampling_rate, end=end/sampling_rate)\n",
    "\n",
    "  \n"
   ]
  },
  {
   "cell_type": "code",
   "execution_count": 43,
   "metadata": {},
   "outputs": [
    {
     "data": {
      "text/plain": [
       "2819"
      ]
     },
     "execution_count": 43,
     "metadata": {},
     "output_type": "execute_result"
    }
   ],
   "source": [
    "1508+1311\n"
   ]
  },
  {
   "attachments": {},
   "cell_type": "markdown",
   "metadata": {},
   "source": [
    "## Todo:\n",
    "1. start, end time\n",
    "2. sag ratio\n",
    "3. volatge clamp mode"
   ]
  }
 ],
 "metadata": {
  "kernelspec": {
   "display_name": "Python 3",
   "language": "python",
   "name": "python3"
  },
  "language_info": {
   "codemirror_mode": {
    "name": "ipython",
    "version": 3
   },
   "file_extension": ".py",
   "mimetype": "text/x-python",
   "name": "python",
   "nbconvert_exporter": "python",
   "pygments_lexer": "ipython3",
   "version": "3.10.11"
  },
  "orig_nbformat": 4,
  "vscode": {
   "interpreter": {
    "hash": "d57d9b84625b7773c1f97ef890d3f21edb77ca5b5bdaa51d489128d5279dbe75"
   }
  }
 },
 "nbformat": 4,
 "nbformat_minor": 2
}
